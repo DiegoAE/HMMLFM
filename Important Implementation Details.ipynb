{
 "cells": [
  {
   "cell_type": "markdown",
   "metadata": {},
   "source": [
    "# how the parameters are stored in the model?"
   ]
  },
  {
   "cell_type": "markdown",
   "metadata": {},
   "source": [
    "All the model is stored in the following class attributes:\n",
    "\n",
    "* ```A``` (numpy 2D array)\n",
    "* ```pi``` (numpy array)\n",
    "* ```LFMparams``` (dictionary)"
   ]
  },
  {
   "cell_type": "markdown",
   "metadata": {},
   "source": [
    "* In `LFMparams` the parameters must be stored as they are, this is, without transformations.\n",
    "* The function `pack_params` allows you to convert the dictionary `LFMparams` to a flattened array and, in addition to that, it applies the `log` operation over the parameters that are constrained to be positive.\n",
    "* Conversely, The function `unpack_params` allows you to convert an array containing the parameters to a dictionary and it applies the `exp` operation to the must-be-positive parameters."
   ]
  },
  {
   "cell_type": "markdown",
   "metadata": {},
   "source": [
    "## Output of the current experiments related with emission parameters estimation."
   ]
  },
  {
   "cell_type": "markdown",
   "metadata": {},
   "source": [
    "Reset of emission hyperparameters."
   ]
  },
  {
   "cell_type": "code",
   "execution_count": null,
   "metadata": {
    "collapsed": true
   },
   "outputs": [],
   "source": [
    "parameters : {'spring': array([[ 0.01315013],\n",
    "       [ 0.63110198],\n",
    "       [ 1.6302133 ]]), 'lengthscales': array([[  3.45497632e-20],\n",
    "       [  2.44856958e-01],\n",
    "       [  1.04295485e-03]]), 'sensi': array([[[ 39.26288376]],\n",
    "\n",
    "       [[  0.30728971]],\n",
    "\n",
    "       [[-11.54918141]]]), 'noise_var': 0.0, 'damper': array([[  2.94533092e+42],\n",
    "       [  1.89775994e+00],\n",
    "       [  1.06351696e+03]])}"
   ]
  },
  {
   "cell_type": "markdown",
   "metadata": {},
   "source": [
    "Without reset"
   ]
  },
  {
   "cell_type": "code",
   "execution_count": null,
   "metadata": {
    "collapsed": true
   },
   "outputs": [],
   "source": [
    "parameters : {'spring': array([[  1.37490185e+33],\n",
    "       [  5.29176013e-04],\n",
    "       [  1.32213908e-04]]), 'lengthscales': array([[  1.24131748e+05],\n",
    "       [  2.46286856e+04],\n",
    "       [  2.83785822e-05]]), 'sensi': array([[[-16.7109375 ]],\n",
    "\n",
    "       [[ 45.14575195]],\n",
    "\n",
    "       [[ 18.20727539]]]), 'noise_var': 1.41140515155821e-07, 'damper': array([[  5.53253881e-69],\n",
    "       [  1.39116075e-06],\n",
    "       [  4.03789267e+03]])}"
   ]
  }
 ],
 "metadata": {
  "kernelspec": {
   "display_name": "Python 2",
   "language": "python",
   "name": "python2"
  },
  "language_info": {
   "codemirror_mode": {
    "name": "ipython",
    "version": 2
   },
   "file_extension": ".py",
   "mimetype": "text/x-python",
   "name": "python",
   "nbconvert_exporter": "python",
   "pygments_lexer": "ipython2",
   "version": "2.7.8"
  }
 },
 "nbformat": 4,
 "nbformat_minor": 0
}
