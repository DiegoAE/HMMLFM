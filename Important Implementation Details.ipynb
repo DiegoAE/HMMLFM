{
 "cells": [
  {
   "cell_type": "markdown",
   "metadata": {},
   "source": [
    "# how the parameters are stored in the model?"
   ]
  },
  {
   "cell_type": "markdown",
   "metadata": {},
   "source": [
    "All the model is stored in the following class attributes:\n",
    "\n",
    "* ```A``` (numpy 2D array)\n",
    "* ```pi``` (numpy array)\n",
    "* ```LFMparams``` (dictionary)"
   ]
  },
  {
   "cell_type": "markdown",
   "metadata": {},
   "source": [
    "* In `LFMparams` the parameters must be stored as they are, this is, without transformations.\n",
    "* The function `pack_params` allows you to convert the dictionary `LFMparams` to a flattened array and, in addition to that, it applies the `log` operation over the parameters that are constrained to be positive.\n",
    "* Conversely, The function `unpack_params` allows you to convert an array containing the parameters to a dictionary and it applies the `exp` operation to the must-be-positive parameters."
   ]
  },
  {
   "cell_type": "markdown",
   "metadata": {},
   "source": [
    "## Output of the current experiments related with emission parameters estimation."
   ]
  },
  {
   "cell_type": "markdown",
   "metadata": {},
   "source": [
    "Reset of emission hyperparameters."
   ]
  },
  {
   "cell_type": "code",
   "execution_count": null,
   "metadata": {
    "collapsed": true
   },
   "outputs": [],
   "source": [
    "parameters : {'spring': array([[ 0.01315013],\n",
    "       [ 0.63110198],\n",
    "       [ 1.6302133 ]]), 'lengthscales': array([[  3.45497632e-20],\n",
    "       [  2.44856958e-01],\n",
    "       [  1.04295485e-03]]), 'sensi': array([[[ 39.26288376]],\n",
    "\n",
    "       [[  0.30728971]],\n",
    "\n",
    "       [[-11.54918141]]]), 'noise_var': 0.0, 'damper': array([[  2.94533092e+42],\n",
    "       [  1.89775994e+00],\n",
    "       [  1.06351696e+03]])}"
   ]
  },
  {
   "cell_type": "markdown",
   "metadata": {},
   "source": [
    "Without reset"
   ]
  },
  {
   "cell_type": "code",
   "execution_count": null,
   "metadata": {
    "collapsed": true
   },
   "outputs": [],
   "source": [
    "parameters : {'spring': array([[  1.37490185e+33],\n",
    "       [  5.29176013e-04],\n",
    "       [  1.32213908e-04]]), 'lengthscales': array([[  1.24131748e+05],\n",
    "       [  2.46286856e+04],\n",
    "       [  2.83785822e-05]]), 'sensi': array([[[-16.7109375 ]],\n",
    "\n",
    "       [[ 45.14575195]],\n",
    "\n",
    "       [[ 18.20727539]]]), 'noise_var': 1.41140515155821e-07, 'damper': array([[  5.53253881e-69],\n",
    "       [  1.39116075e-06],\n",
    "       [  4.03789267e+03]])}"
   ]
  },
  {
   "cell_type": "markdown",
   "metadata": {},
   "source": [
    "## INTERESTING: with a random initilization of the emission parameters I got the following result"
   ]
  },
  {
   "cell_type": "code",
   "execution_count": null,
   "metadata": {
    "collapsed": true
   },
   "outputs": [],
   "source": [
    "BEFORE {'spring': array([[ 0.00738016],\n",
    "       [ 0.62222845],\n",
    "       [ 0.20695498]]), 'lengthscales': array([[ 0.96840867],\n",
    "       [ 0.24932085],\n",
    "       [ 0.26036316]]), 'sensi': array([[[-2.8630928 ]],\n",
    "\n",
    "       [[-0.10335482]],\n",
    "\n",
    "       [[ 0.92347484]]]), 'noise_var': 100.0, 'damper': array([[ 1.70143305],\n",
    "       [ 1.84927803],\n",
    "       [ 0.99086296]])}\n",
    "===============\n",
    "CONVERGENCE: REL_REDUCTION_OF_F_<=_FACTR*EPSMCH\n",
    "iterations: 1\n",
    "===============\n",
    "CURRENT VALUE OF EMISSION PARAMS: \n",
    "{'spring': array([[  3.00722339e+00],\n",
    "       [  1.41117184e+00],\n",
    "       [  6.48250443e-06]]), 'lengthscales': array([[  9.72668640e+00],\n",
    "       [  7.51900430e+00],\n",
    "       [  7.80435418e-04]]), 'sensi': array([[[-0.87095605]],\n",
    "\n",
    "       [[-1.07240969]],\n",
    "\n",
    "       [[ 8.52214177]]]), 'noise_var': 0.00051199915988875226, 'damper': array([[ 0.98212925],\n",
    "       [ 3.66596507],\n",
    "       [ 2.88231836]])}\n",
    "iter:  44 , L(model|O) = 20620.4695285 , L(model_new|O) = 20620.4696096 , converging = True"
   ]
  },
  {
   "cell_type": "markdown",
   "metadata": {},
   "source": [
    "This result seems to be a fairly good estimation for the emission parameters taking into account that they were initialized randomly. Except for the spring constant for the third output. The whole EM algorithm finished without errors giving the following estimation for $s$ and $A$."
   ]
  },
  {
   "cell_type": "code",
   "execution_count": null,
   "metadata": {
    "collapsed": true
   },
   "outputs": [],
   "source": [
    "[ 0.37246972  0.57436305  0.05316723]\n",
    "[[  1.92023284e-01   8.07976435e-01   2.80322597e-07]\n",
    " [  5.49872036e-01   4.38945299e-01   1.11826644e-02]\n",
    " [  1.24152441e-14   1.00000000e+00   7.62508508e-46]]"
   ]
  },
  {
   "cell_type": "markdown",
   "metadata": {},
   "source": [
    "Actual parameters:"
   ]
  },
  {
   "cell_type": "code",
   "execution_count": null,
   "metadata": {
    "collapsed": true
   },
   "outputs": [],
   "source": [
    "initial state distribution [ 0.3  0.3  0.4]\n",
    "hidden state transition matrix\n",
    "[[ 0.1  0.5  0.4]\n",
    " [ 0.6  0.1  0.3]\n",
    " [ 0.4  0.5  0.1]]"
   ]
  },
  {
   "cell_type": "markdown",
   "metadata": {},
   "source": [
    "Notice that the last value state of the model (Third LFM) is kind of eliminated in the inference process. Notice that 2 lfm has a spring/damper of 1/3 and the 3 lfm has a spring/damper of 5/6."
   ]
  }
 ],
 "metadata": {
  "kernelspec": {
   "display_name": "Python 3",
   "language": "python",
   "name": "python3"
  },
  "language_info": {
   "codemirror_mode": {
    "name": "ipython",
    "version": 3
   },
   "file_extension": ".py",
   "mimetype": "text/x-python",
   "name": "python",
   "nbconvert_exporter": "python",
   "pygments_lexer": "ipython3",
   "version": "3.6.5"
  }
 },
 "nbformat": 4,
 "nbformat_minor": 1
}
