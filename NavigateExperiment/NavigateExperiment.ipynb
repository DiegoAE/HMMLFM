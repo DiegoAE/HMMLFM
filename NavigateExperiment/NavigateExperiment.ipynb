{
 "cells": [
  {
   "cell_type": "markdown",
   "metadata": {},
   "source": [
    "# Navigate experiment."
   ]
  },
  {
   "cell_type": "markdown",
   "metadata": {},
   "source": [
    "## Description"
   ]
  },
  {
   "cell_type": "markdown",
   "metadata": {},
   "source": [
    "MOCAP sequences labeled as navigation realizations were taken from the CMU mocap database in order to build a training and validation set. Specifically the subject #41 was used with the trails ['04', '05'] for training and trials '06' for validation. These trials were chosen because they seemed to exhibit a diversity of walking behaviors-walking forward and backwards, diagonal etc. Onlye these three movements were considered because they were made up of pretty much the same underlying behaviors. The outputs of interest are both tibias and both radiuses as in the walking experiment. For more details see `mocap_extraction_script.py`. Note that movement realizations were normalized to vary in the range from [-1,1]."
   ]
  },
  {
   "cell_type": "markdown",
   "metadata": {},
   "source": [
    "<img src='figures/Subject41_3_forces_6_hs_normalized.png'>"
   ]
  },
  {
   "cell_type": "markdown",
   "metadata": {},
   "source": [
    "<img src='figures/Subject41_3_forces_6_hs_normalized_just_means.png'>"
   ]
  },
  {
   "cell_type": "markdown",
   "metadata": {},
   "source": [
    "## Inferring with 3 forces and 6 hidden states."
   ]
  },
  {
   "cell_type": "code",
   "execution_count": null,
   "metadata": {
    "collapsed": true
   },
   "outputs": [],
   "source": [
    "{'spring': array([[  6.98236244e-01,   9.69361656e+00,   1.11389226e+01,\n",
    "          5.18342230e+00],\n",
    "       [  5.30555885e+00,   5.23905405e+00,   2.41232428e+01,\n",
    "          6.74995698e+00],\n",
    "       [  6.75943913e+00,   9.03067090e+00,   1.54077311e+01,\n",
    "          5.27881055e+00],\n",
    "       [  6.07053106e+00,   9.02762546e+00,   5.30047108e+00,\n",
    "          1.30407115e+01],\n",
    "       [  1.73006049e+00,   5.00000000e-04,   2.07141720e+00,\n",
    "          1.65441879e+01],\n",
    "       [  1.45748242e+01,   4.77452035e-01,   3.61145889e+00,\n",
    "          1.89734114e+01]]), 'lengthscales': array([[ 0.00112422,  0.01881944,  0.0005    ],\n",
    "       [ 0.0005    ,  0.0005    ,  0.0005    ],\n",
    "       [ 0.0005    ,  0.0005    ,  0.0005    ],\n",
    "       [ 0.0005    ,  0.0005    ,  0.0005    ],\n",
    "       [ 0.0005    ,  0.0005    ,  0.0005    ],\n",
    "       [ 0.0005    ,  0.00059553,  0.0005    ]]), 'sensi': array([[[ -1.0069229 ,   2.44865343,  -2.77340616],\n",
    "        [ -2.76283755,  -2.70044625, -10.88297733],\n",
    "        [  2.10656434,   0.81987513,  -9.52883118],\n",
    "        [  0.77178087,  -0.47329136,  -2.00366413]],\n",
    "\n",
    "       [[ -4.01663551,  -3.51913323,  -3.18510105],\n",
    "        [ -0.29042356,  -3.09667035,  -3.75417658],\n",
    "        [ -6.02036664,  -8.34055566,  -8.77716277],\n",
    "        [ -1.39423242,  -2.93802693,  -3.25270629]],\n",
    "\n",
    "       [[ -4.88749924,  -3.56624807,  -4.69392924],\n",
    "        [ -6.65302097,  -4.94004232,  -6.72982559],\n",
    "        [ -7.84135104,  -4.84420694,  -8.51560237],\n",
    "        [ -2.87742366,  -1.36378285,  -3.04889974]],\n",
    "\n",
    "       [[ -3.84151319,  -4.16869635,  -3.79816466],\n",
    "        [ -6.27954139,  -6.43743255,  -6.2455827 ],\n",
    "        [ -2.66934837,  -2.96026429,  -2.63375023],\n",
    "        [ -6.8210982 ,  -7.4427965 ,  -6.74824458]],\n",
    "\n",
    "       [[ -1.08734178,  -0.71389818,   3.24195043],\n",
    "        [ -0.27417596,  -0.40831937,  -1.55697065],\n",
    "        [  0.43573731,   0.44685464,   0.38672499],\n",
    "        [ -0.45459148,  -0.56914676,  -1.52083854]],\n",
    "\n",
    "       [[ -3.26580009,  -1.82617717,  -5.27883936],\n",
    "        [  0.1736848 ,   0.81797607,  -0.18065957],\n",
    "        [ -0.52885986,  -0.43216768,  -0.77196321],\n",
    "        [  0.11230019,  -0.07114024,   0.15899509]]]), 'noise_var': array([ 0.0005,  0.0005,  0.0005,  0.0005]), 'damper': array([[  5.13830657,  10.22904585,  10.70606158,   5.90319351],\n",
    "       [  9.27050328,   5.72135778,  20.91389056,   6.85713238],\n",
    "       [  8.47938195,  11.89683674,  12.13950847,   4.9425242 ],\n",
    "       [  5.79432032,   9.64848683,   4.91793164,  10.2584201 ],\n",
    "       [  7.27809543,  10.13520688,   5.76235641,  19.11484441],\n",
    "       [ 19.8610417 ,   0.86037383,   7.69322563,  17.50342323]])}\n",
    "#\n",
    "array([[  0.00000000e+000,   0.00000000e+000,   0.00000000e+000,\n",
    "          0.00000000e+000,   5.29285963e-002,   9.47071404e-001],\n",
    "       [  0.00000000e+000,   2.36395080e-109,   1.10393622e-166,\n",
    "          9.19529547e-190,   4.17308138e-023,   1.00000000e+000],\n",
    "       [  0.00000000e+000,   2.13360676e-105,   2.28480919e-171,\n",
    "          1.00279934e-190,   2.73462030e-026,   1.00000000e+000],\n",
    "       [  0.00000000e+000,   3.71959261e-110,   2.60897715e-176,\n",
    "          6.91457897e-196,   1.21309000e-029,   1.00000000e+000],\n",
    "       [  2.38842942e-298,   2.20039035e-059,   1.97985384e-110,\n",
    "          3.32968702e-128,   6.24441149e-002,   9.37555885e-001],\n",
    "       [  5.01208543e-269,   2.17415224e-089,   1.22160585e-135,\n",
    "          3.95545981e-158,   9.51150910e-001,   4.88490901e-002]])\n",
    "#\n",
    "array([  6.32404027e-322,   3.92603218e-078,   6.93598917e-117,\n",
    "         1.89280403e-136,   1.00000000e+000,   3.50961748e-146])"
   ]
  },
  {
   "cell_type": "markdown",
   "metadata": {},
   "source": [
    "## Viterbi Results"
   ]
  },
  {
   "cell_type": "code",
   "execution_count": null,
   "metadata": {
    "collapsed": true
   },
   "outputs": [],
   "source": [
    "[array([4, 5, 4, 5, 4, 5, 4, 5, 4, 5, 4, 5, 4, 5, 4, 4, 5, 4, 5, 4])\n",
    " array([4, 5, 4, 5, 4, 5, 4, 5, 4, 5, 4, 5, 4, 5, 5, 4, 5, 4, 5, 4, 5])]\n",
    "Viterbi for testing\n",
    "[array([4, 5, 4, 5, 4, 5, 4, 5, 4, 4, 5, 4, 5, 4, 5, 4, 5, 4, 5, 4, 5, 4])]"
   ]
  },
  {
   "cell_type": "markdown",
   "metadata": {},
   "source": [
    "## Insights about the results."
   ]
  },
  {
   "cell_type": "markdown",
   "metadata": {},
   "source": [
    "Note that even though 6 hidden states were available in the inference, only two of them were actually used. Moreover, the found pattern is almost invariably an alternation between both states. Below the spring and damper constants are shown in a friendly format. "
   ]
  },
  {
   "cell_type": "code",
   "execution_count": null,
   "metadata": {
    "collapsed": true
   },
   "outputs": [],
   "source": [
    "spring state 4 1.73006049 0.0005 2.07141720 16.5441879\n",
    "spring state 5 14.5748242 0.477452035e 3.61145889 18.9734114|\n",
    "\n",
    "damper state 4 7.27809543 10.13520688 5.76235641 19.11484441\n",
    "damper state 5 19.8610417  0.86037383 7.69322563 17.50342323"
   ]
  },
  {
   "cell_type": "markdown",
   "metadata": {},
   "source": [
    "Remarkably, all the dynamical systems are overdamped (which is kind of expected from past experiments). \n",
    "lengthscales are equal in both states, interestingly, they are equal to the minimum possible valued allowed. In contrast, the sensitivities exhibit more diversity."
   ]
  },
  {
   "cell_type": "markdown",
   "metadata": {},
   "source": [
    "## Conclusion"
   ]
  },
  {
   "cell_type": "markdown",
   "metadata": {},
   "source": [
    "In summary, the viterbi pattern obtained doesn't match the expectations. However, it's worth analysing why there are couple of contiguous transitions to the same state. It might be a good idea to try with different configurations of hidden states and sample locations.\n",
    "From the regression point of view the fit is not very consistent. Some times the underlying tendencies are well capture, sometimes they aren't. *Interesting*: Given the fact that model is working well in the synthetic setting and isn't in the real setting, might be a good idea I should try to model the outputs as independent, which implies that there should be an independent force per output. How to test this assumption?"
   ]
  },
  {
   "cell_type": "markdown",
   "metadata": {},
   "source": [
    "The output independence assumption might be tested conveniently by setting a number of latent forces equal to the number of outputs and having binary sensitivities - each latent force must have only one sensitivity constant set to one for the associated latent force. These sensitivities must not be optimized."
   ]
  },
  {
   "cell_type": "markdown",
   "metadata": {},
   "source": [
    "## Independence assumption experiment."
   ]
  },
  {
   "cell_type": "markdown",
   "metadata": {},
   "source": [
    "The experiment does not seem to give good results. The whole sequece was explained with a single hidden state (3) and the quality of the fit is worse compared to the non-independent experiment. This doesn't seem a promising direction to go."
   ]
  }
 ],
 "metadata": {
  "kernelspec": {
   "display_name": "Python 2",
   "language": "python",
   "name": "python2"
  },
  "language_info": {
   "codemirror_mode": {
    "name": "ipython",
    "version": 2
   },
   "file_extension": ".py",
   "mimetype": "text/x-python",
   "name": "python",
   "nbconvert_exporter": "python",
   "pygments_lexer": "ipython2",
   "version": "2.7.8"
  }
 },
 "nbformat": 4,
 "nbformat_minor": 0
}
