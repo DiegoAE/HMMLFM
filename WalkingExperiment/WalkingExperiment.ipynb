{
 "cells": [
  {
   "cell_type": "markdown",
   "metadata": {},
   "source": [
    "# Walking Experiment."
   ]
  },
  {
   "cell_type": "markdown",
   "metadata": {},
   "source": [
    "## Description."
   ]
  },
  {
   "cell_type": "markdown",
   "metadata": {},
   "source": [
    "Walking sequences were taken from the CMU mocap database in order to build a training and validation set. Specifically the subject #7 was used with the trails ['01', '02', '03', '06', '07', '08', '09'] for training and trials ['10', '11'] for validation. The outputs of interest are both tibias and both radiuses?. For more details see `mocap_extraction_script.py`."
   ]
  },
  {
   "cell_type": "markdown",
   "metadata": {},
   "source": [
    "## Observations gathered"
   ]
  },
  {
   "cell_type": "markdown",
   "metadata": {},
   "source": [
    "<img src='figures/ObservationsPlot.png'>"
   ]
  },
  {
   "cell_type": "markdown",
   "metadata": {},
   "source": [
    "The model is still failing to achieve good fits for multiple-output observations. Therefore the following results are based on a single output (the blue one above)."
   ]
  },
  {
   "cell_type": "markdown",
   "metadata": {},
   "source": [
    "## Inferred Parameters."
   ]
  },
  {
   "cell_type": "code",
   "execution_count": null,
   "metadata": {
    "collapsed": true
   },
   "outputs": [],
   "source": [
    "{'spring': array([[ 0.0005],\n",
    "       [ 0.0005],\n",
    "       [ 0.0005]]), 'lengthscales': array([[ 0.00999595],\n",
    "       [ 0.00130432],\n",
    "       [ 0.00150659]]), 'sensi': array([[[-25.77900169]],\n",
    "\n",
    "       [[-53.23964169]],\n",
    "\n",
    "       [[-24.00917431]]]), 'noise_var': array([ 0.0005]), 'damper': array([[ 48.36195206],\n",
    "       [ 63.04325901],\n",
    "       [ 66.75989561]])}\n",
    "#\n",
    "array([[  2.96283135e-02,   9.36177573e-01,   3.41941139e-02],\n",
    "       [  5.84637524e-01,   4.96611806e-05,   4.15312814e-01],\n",
    "       [  1.91467122e-01,   4.34857976e-01,   3.73674902e-01]])\n",
    "#\n",
    "array([  1.00000000e+000,   1.99953753e-120,   0.00000000e+000])"
   ]
  },
  {
   "cell_type": "markdown",
   "metadata": {},
   "source": [
    "## Viterbi results."
   ]
  },
  {
   "cell_type": "markdown",
   "metadata": {},
   "source": [
    "Raw results."
   ]
  },
  {
   "cell_type": "code",
   "execution_count": null,
   "metadata": {
    "collapsed": true
   },
   "outputs": [],
   "source": [
    "Viterbi for training\n",
    "[array([0, 1, 0, 1, 2, 1, 2, 0, 1, 0, 1, 2, 1, 0, 1, 0])\n",
    " array([0, 1, 0, 1, 2, 0, 1, 0, 1, 0, 1, 2, 1, 0, 0, 1])\n",
    " array([0, 1, 0, 2, 2, 2, 1, 0, 1, 0, 1, 2, 2, 1, 2, 0, 1, 0, 1, 2, 2])\n",
    " array([0, 1, 0, 1, 2, 2, 1, 0, 1, 0, 1, 2, 2, 1, 0, 1])\n",
    " array([0, 1, 0, 1, 2, 2, 1, 0, 1, 0, 1, 2, 2, 1, 2, 0, 1, 0, 1])\n",
    " array([0, 1, 0, 1, 2, 2, 1, 2, 0, 1, 0, 1, 2])\n",
    " array([0, 1, 0, 1, 2, 1, 0, 1, 0, 1, 2])]\n",
    "Viterbi for testing\n",
    "[array([0, 1, 0, 1, 2, 1, 0, 1, 0, 1, 2])\n",
    " array([0, 1, 0, 1, 2, 1, 0, 1, 0, 1, 2])]"
   ]
  },
  {
   "cell_type": "markdown",
   "metadata": {},
   "source": [
    "### Aligned results for gait cycle."
   ]
  },
  {
   "cell_type": "code",
   "execution_count": null,
   "metadata": {
    "collapsed": true
   },
   "outputs": [],
   "source": [
    "Training\n",
    "\n",
    "First periodic part\n",
    "0, 1, 0, 1, 2, 1, 2\n",
    "0, 1, 0, 1, 2, 0, 1\n",
    "0, 1, 0, 2, 2, 2, 1\n",
    "0, 1, 0, 1, 2, 2, 1\n",
    "0, 1, 0, 1, 2, 2, 1\n",
    "0, 1, 0, 1, 2, 2, 1\n",
    "0, 1, 0, 1, 2, 1, 0\n",
    "Second periodic part\n",
    "0, 1, 0, 1, 2, 1, 0\n",
    "0, 1, 0, 1, 2, 1, 0\n",
    "0, 1, 0, 1, 2, 2, 1\n",
    "0, 1, 0, 1, 2, 2, 1\n",
    "0, 1, 0, 1, 2, 2, 1\n",
    "\n",
    "Testing\n",
    "\n",
    "0, 1, 0, 1, 2, 1, 0\n",
    "0, 1, 0, 1, 2, 1, 0"
   ]
  },
  {
   "cell_type": "markdown",
   "metadata": {},
   "source": [
    "## Resulting Fit."
   ]
  },
  {
   "cell_type": "markdown",
   "metadata": {},
   "source": [
    "### First Training Observation."
   ]
  },
  {
   "cell_type": "markdown",
   "metadata": {},
   "source": [
    "<img src='figures/FirstTrainingObservationFit.png'>"
   ]
  },
  {
   "cell_type": "markdown",
   "metadata": {},
   "source": [
    "### First Testing Observation."
   ]
  },
  {
   "cell_type": "markdown",
   "metadata": {},
   "source": [
    "<img src='figures/FirstTestingObservationFit.png'>"
   ]
  },
  {
   "cell_type": "markdown",
   "metadata": {},
   "source": [
    "### Second Testing Observation."
   ]
  },
  {
   "cell_type": "markdown",
   "metadata": {},
   "source": [
    "<img src='figures/SecondTestingObservationFit.png'>"
   ]
  },
  {
   "cell_type": "markdown",
   "metadata": {},
   "source": [
    "## Comments"
   ]
  },
  {
   "cell_type": "markdown",
   "metadata": {},
   "source": [
    "* There is an interesting pattern during each gait period. However, when the parameters for each hidden state are analysed there is something weird, the spring for each hidden state is the minimum possible value (i.e. 0.0005) which can be interpreted as all the dynamical systems being over-damped.\n",
    "* When the multiple-output model is inferred it seems to me that the fitting is always performing poorly except for a single output which is well-fitted."
   ]
  }
 ],
 "metadata": {
  "kernelspec": {
   "display_name": "Python 2",
   "language": "python",
   "name": "python2"
  },
  "language_info": {
   "codemirror_mode": {
    "name": "ipython",
    "version": 2
   },
   "file_extension": ".py",
   "mimetype": "text/x-python",
   "name": "python",
   "nbconvert_exporter": "python",
   "pygments_lexer": "ipython2",
   "version": "2.7.8"
  }
 },
 "nbformat": 4,
 "nbformat_minor": 0
}
